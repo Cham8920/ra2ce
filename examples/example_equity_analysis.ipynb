{
 "cells": [
  {
   "attachments": {},
   "cell_type": "markdown",
   "id": "e0bf8629",
   "metadata": {},
   "source": [
    "# RA2CE feature: Equity analysis"
   ]
  },
  {
   "cell_type": "code",
   "execution_count": 1,
   "id": "e67d001f",
   "metadata": {},
   "outputs": [],
   "source": [
    "import ast\n",
    "import random\n",
    "import sys\n",
    "import webbrowser\n",
    "import geopandas as gpd\n",
    "from IPython.display import display\n",
    "import matplotlib.pyplot as plt\n",
    "from matplotlib.pyplot import get_cmap\n",
    "from matplotlib.colors import to_hex\n",
    "from pathlib import Path\n",
    "import rasterio"
   ]
  },
  {
   "attachments": {},
   "cell_type": "markdown",
   "id": "0c5e8b7c",
   "metadata": {},
   "source": [
    "Then, we have to set some basic variables. Keep in mind that you will have to specify the path to your local machine yourself.\n",
    "First, we will set the path to the ra2ce folder and we will initialize the names for the network and analysis ini files.\n",
    "\n",
    "Afterwards, let's find the examples folder on your machine."
   ]
  },
  {
   "cell_type": "code",
   "execution_count": 2,
   "id": "0d6562dd",
   "metadata": {},
   "outputs": [
    {
     "name": "stderr",
     "output_type": "stream",
     "text": [
      "c:\\Users\\meije_le\\Anaconda3\\envs\\ra2ce_env\\lib\\site-packages\\tqdm\\auto.py:21: TqdmWarning: IProgress not found. Please update jupyter and ipywidgets. See https://ipywidgets.readthedocs.io/en/stable/user_install.html\n",
      "  from .autonotebook import tqdm as notebook_tqdm\n"
     ]
    }
   ],
   "source": [
    "from ra2ce.ra2ce_handler import Ra2ceHandler #import the ra2cehandler to run ra2ce analyses\n",
    "\n",
    "_network_ini_name = \"network.ini\" #set the name for the network.ini\n",
    "_analysis_ini_name = \"analyses.ini\" #set the name for the analysis.ini\n",
    "\n",
    "folder_dir = Path(r'C:\\python\\ra2ce\\examples\\data') # Set the path to your examples folder"
   ]
  },
  {
   "cell_type": "code",
   "execution_count": 3,
   "id": "5a017a29",
   "metadata": {},
   "outputs": [],
   "source": [
    "root_dir = folder_dir/'equity_analysis'\n",
    "\n",
    "network_ini = root_dir / _network_ini_name\n",
    "assert network_ini.is_file()\n",
    "\n",
    "analysis_ini = root_dir / _analysis_ini_name\n",
    "assert analysis_ini.is_file()"
   ]
  },
  {
   "attachments": {},
   "cell_type": "markdown",
   "id": "b4815d9b",
   "metadata": {},
   "source": [
    "Run RA2CE. Notice the information RA2CE gives you. Education locations are referred to as D1 (destination 1) and hospital locations as D2 (destination 2)."
   ]
  },
  {
   "cell_type": "code",
   "execution_count": 4,
   "id": "fdd2b259",
   "metadata": {
    "scrolled": true
   },
   "outputs": [
    {
     "name": "stderr",
     "output_type": "stream",
     "text": [
      "2023-11-08 03:25:35 PM - [ra2ce_logging.py:41] - root - INFO - RA2CE logger initialized.\n",
      "2023-11-08 03:25:35 PM - [network_wrapper_factory.py:53] - root - INFO - Start creating a network from the submitted shapefile.\n",
      "2023-11-08 03:25:35 PM - [osm_network_wrapper.py:56] - root - INFO - Start downloading a network from OSM.\n",
      "2023-11-08 03:25:36 PM - [osm_network_wrapper.py:176] - root - INFO - graph downloaded from OSM with 4,036 nodes and 6,591 edges\n",
      "c:\\Users\\meije_le\\Anaconda3\\envs\\ra2ce_env\\lib\\site-packages\\osmnx\\simplification.py:462: UserWarning: Geometry is in a geographic CRS. Results from 'buffer' are likely incorrect. Use 'GeoSeries.to_crs()' to re-project geometries to a projected CRS before this operation.\n",
      "\n",
      "  merged = utils_graph.graph_to_gdfs(G, edges=False)[\"geometry\"].buffer(tolerance).unary_union\n",
      "c:\\Users\\meije_le\\Anaconda3\\envs\\ra2ce_env\\lib\\site-packages\\osmnx\\simplification.py:510: UserWarning: Geometry is in a geographic CRS. Results from 'centroid' are likely incorrect. Use 'GeoSeries.to_crs()' to re-project geometries to a projected CRS before this operation.\n",
      "\n",
      "  centroids = node_clusters.centroid\n",
      "2023-11-08 03:25:39 PM - [networks_utils.py:985] - root - INFO - Simplifying graph\n",
      "2023-11-08 03:25:39 PM - [networks_utils.py:1084] - root - INFO - Added a new unique identifier field 'rfid_c'.\n",
      "2023-11-08 03:25:39 PM - [networks_utils.py:1117] - root - INFO - Graph simplified from 4,036 to 254 nodes and 6,591 to 469 edges.\n",
      "2023-11-08 03:25:39 PM - [networks_utils.py:1084] - root - INFO - Added a new unique identifier field 'rfid'.\n",
      "100%|██████████| 469/469 [00:00<?, ?it/s]\n",
      "2023-11-08 03:25:39 PM - [networks_utils.py:1520] - root - INFO - Lookup tables from complex to simple and vice versa were created\n",
      "2023-11-08 03:25:39 PM - [networks_utils.py:1003] - root - INFO - Simplified graph succesfully created\n",
      "2023-11-08 03:25:39 PM - [osm_network_wrapper.py:65] - root - INFO - Start converting the graph to a geodataframe\n",
      "2023-11-08 03:25:39 PM - [osm_network_wrapper.py:67] - root - INFO - Finished converting the graph to a geodataframe\n",
      "2023-11-08 03:25:39 PM - [json_exporter.py:46] - root - INFO - Saved (or overwrote) simple_to_complex.json\n",
      "2023-11-08 03:25:39 PM - [json_exporter.py:46] - root - INFO - Saved (or overwrote) complex_to_simple.json\n",
      "2023-11-08 03:25:39 PM - [osm_network_wrapper.py:105] - root - INFO - No attributes found in the graph to estimate average speed per network segment.\n",
      "2023-11-08 03:25:41 PM - [multi_graph_network_exporter.py:56] - root - INFO - Saved base_graph in C:\\python\\ra2ce\\examples\\data\\equity_analysis\\static\\output_graph.\n",
      "2023-11-08 03:25:41 PM - [networks_utils.py:1214] - root - INFO - Saving nodes as shapefile: C:\\python\\ra2ce\\examples\\data\\equity_analysis\\static\\output_graph\\base_graph_nodes.gpkg\n",
      "2023-11-08 03:25:41 PM - [networks_utils.py:1215] - root - INFO - Saving edges as shapefile: C:\\python\\ra2ce\\examples\\data\\equity_analysis\\static\\output_graph\\base_graph_edges.gpkg\n",
      "2023-11-08 03:25:41 PM - [multi_graph_network_exporter.py:48] - root - INFO - Saved base_graph_edges.gpkg and base_graph_nodes.gpkg in C:\\python\\ra2ce\\examples\\data\\equity_analysis\\static\\output_graph.\n",
      "2023-11-08 03:25:41 PM - [geodataframe_network_exporter.py:42] - root - INFO - Saved base_network in C:\\python\\ra2ce\\examples\\data\\equity_analysis\\static\\output_graph.\n",
      "2023-11-08 03:25:42 PM - [geodataframe_network_exporter.py:37] - root - INFO - Saved base_network in C:\\python\\ra2ce\\examples\\data\\equity_analysis\\static\\output_graph.\n",
      "c:\\Users\\meije_le\\Anaconda3\\envs\\ra2ce_env\\lib\\site-packages\\pyogrio\\raw.py:137: RuntimeWarning: driver ESRI Shapefile does not support open option CRS\n",
      "  result = ogr_read(\n",
      "c:\\Users\\meije_le\\Anaconda3\\envs\\ra2ce_env\\lib\\site-packages\\pyogrio\\raw.py:137: RuntimeWarning: driver ESRI Shapefile does not support open option CRS\n",
      "  result = ogr_read(\n",
      "2023-11-08 03:25:42 PM - [origins_destinations.py:314] - root - INFO - Finding vertices closest to Origins and Destinations\n",
      "Adding Origin-Destination nodes to graph: 113it [00:01, 107.73it/s]\n",
      "2023-11-08 03:25:44 PM - [networks.py:117] - root - INFO - Saved origin_destination_table.feather in C:\\python\\ra2ce\\examples\\data\\equity_analysis\\static\\output_graph.\n",
      "2023-11-08 03:25:44 PM - [networks.py:123] - root - INFO - Saved origin_destination_table in C:\\python\\ra2ce\\examples\\data\\equity_analysis\\static\\output_graph.\n",
      "2023-11-08 03:25:44 PM - [multi_graph_network_exporter.py:56] - root - INFO - Saved origins_destinations_graph in C:\\python\\ra2ce\\examples\\data\\equity_analysis\\static\\output_graph.\n",
      "2023-11-08 03:25:44 PM - [networks_utils.py:1214] - root - INFO - Saving nodes as shapefile: C:\\python\\ra2ce\\examples\\data\\equity_analysis\\static\\output_graph\\origins_destinations_graph_nodes.gpkg\n",
      "2023-11-08 03:25:44 PM - [networks_utils.py:1215] - root - INFO - Saving edges as shapefile: C:\\python\\ra2ce\\examples\\data\\equity_analysis\\static\\output_graph\\origins_destinations_graph_edges.gpkg\n",
      "2023-11-08 03:25:44 PM - [multi_graph_network_exporter.py:48] - root - INFO - Saved origins_destinations_graph_edges.gpkg and origins_destinations_graph_nodes.gpkg in C:\\python\\ra2ce\\examples\\data\\equity_analysis\\static\\output_graph.\n",
      "2023-11-08 03:25:44 PM - [hazard_overlay.py:99] - root - INFO - Initialized hazard object.\n",
      "Graph hazard overlay with in20t010: 100%|██████████| 472/472 [00:02<00:00, 174.16it/s]\n",
      "Graph fraction with hazard overlay with in20t010: 100%|██████████| 472/472 [00:03<00:00, 130.08it/s]\n",
      "2023-11-08 03:25:50 PM - [multi_graph_network_exporter.py:56] - root - INFO - Saved base_graph_hazard in C:\\python\\ra2ce\\examples\\data\\equity_analysis\\static\\output_graph.\n",
      "2023-11-08 03:25:50 PM - [networks_utils.py:1214] - root - INFO - Saving nodes as shapefile: C:\\python\\ra2ce\\examples\\data\\equity_analysis\\static\\output_graph\\base_graph_hazard_nodes.gpkg\n",
      "2023-11-08 03:25:50 PM - [networks_utils.py:1215] - root - INFO - Saving edges as shapefile: C:\\python\\ra2ce\\examples\\data\\equity_analysis\\static\\output_graph\\base_graph_hazard_edges.gpkg\n",
      "2023-11-08 03:25:50 PM - [multi_graph_network_exporter.py:48] - root - INFO - Saved base_graph_hazard_edges.gpkg and base_graph_hazard_nodes.gpkg in C:\\python\\ra2ce\\examples\\data\\equity_analysis\\static\\output_graph.\n",
      "Destinations hazard overlay with in20t010: 100%|██████████| 113/113 [00:00<00:00, 204.67it/s]\n",
      "OD graph hazard overlay with in20t010: 100%|██████████| 472/472 [00:03<00:00, 144.24it/s]\n",
      "OD graph fraction with hazard overlay with in20t010: 100%|██████████| 472/472 [00:03<00:00, 138.54it/s]\n",
      "2023-11-08 03:25:58 PM - [multi_graph_network_exporter.py:56] - root - INFO - Saved origins_destinations_graph_hazard in C:\\python\\ra2ce\\examples\\data\\equity_analysis\\static\\output_graph.\n",
      "2023-11-08 03:25:58 PM - [networks_utils.py:1214] - root - INFO - Saving nodes as shapefile: C:\\python\\ra2ce\\examples\\data\\equity_analysis\\static\\output_graph\\origins_destinations_graph_hazard_nodes.gpkg\n",
      "2023-11-08 03:25:58 PM - [networks_utils.py:1215] - root - INFO - Saving edges as shapefile: C:\\python\\ra2ce\\examples\\data\\equity_analysis\\static\\output_graph\\origins_destinations_graph_hazard_edges.gpkg\n",
      "2023-11-08 03:25:58 PM - [multi_graph_network_exporter.py:48] - root - INFO - Saved origins_destinations_graph_hazard_edges.gpkg and origins_destinations_graph_hazard_nodes.gpkg in C:\\python\\ra2ce\\examples\\data\\equity_analysis\\static\\output_graph.\n",
      "2023-11-08 03:25:58 PM - [hazard_overlay.py:710] - root - INFO - Saved origin_destination_table.feather in C:\\python\\ra2ce\\examples\\data\\equity_analysis\\static\\output_graph.\n",
      "2023-11-08 03:25:58 PM - [hazard_overlay.py:720] - root - INFO - Saved origin_destination_table in C:\\python\\ra2ce\\examples\\data\\equity_analysis\\static\\output_graph.\n",
      "2023-11-08 03:25:58 PM - [hazard_overlay.py:724] - root - INFO - Iterating overlay of GeoPandas Dataframe.\n",
      "2023-11-08 03:25:58 PM - [hazard_overlay.py:756] - root - INFO - Setting 'base_network_hazard' graph.\n",
      "2023-11-08 03:25:58 PM - [hazard_intersect_builder_for_tif.py:181] - root - WARNING - Some geometries have NoneType objects (no coordinate information), namely: Empty GeoDataFrame\n",
      "Columns: [osmid, oneway, name, highway, reversed, length, rfid_c, rfid, bridge, junction, lanes, width, access, geometry]\n",
      "Index: [].This could be due to segmentation, and might cause an exception in hazard overlay\n",
      "Network hazard overlay with in20t010: 100%|██████████| 6591/6591 [00:51<00:00, 128.20it/s]\n",
      "Network fraction with hazard overlay with in20t010: 100%|██████████| 6591/6591 [00:55<00:00, 118.04it/s]\n",
      "2023-11-08 03:27:45 PM - [hazard_overlay.py:768] - root - INFO - Detected isolated locations, checking for hazard overlay.\n",
      "2023-11-08 03:27:45 PM - [hazard_overlay.py:775] - root - INFO - Get hazard at locations from network.\n",
      "2023-11-08 03:27:45 PM - [hazard_overlay.py:362] - root - ERROR - Node id columns are not found in the network. Support node_A, node_B or u, v\n",
      "2023-11-08 03:27:45 PM - [geodataframe_network_exporter.py:42] - root - INFO - Saved locations_hazard in C:\\python\\ra2ce\\examples\\data\\equity_analysis\\static\\output_graph.\n",
      "2023-11-08 03:27:46 PM - [analyses_indirect.py:1025] - root - INFO - ----------------------------- Started analyzing 'optimal route origin destination'  -----------------------------\n",
      "Finding optimal routes.: 100%|██████████| 540/540 [00:00<00:00, 593.19it/s]\n",
      "2023-11-08 03:27:52 PM - [analyses_indirect.py:1300] - root - INFO - ----------------------------- Analysis 'optimal route origin destination' finished. Time: 5.8s  -----------------------------\n"
     ]
    }
   ],
   "source": [
    "handler = Ra2ceHandler(network=network_ini, analysis=analysis_ini)\n",
    "handler.configure()\n",
    "handler.run_analysis()"
   ]
  },
  {
   "attachments": {},
   "cell_type": "markdown",
   "id": "a29bba14",
   "metadata": {},
   "source": [
    "## Inspecting results\n",
    "Let's do some output exploration!"
   ]
  },
  {
   "cell_type": "code",
   "execution_count": 5,
   "id": "7f460c43",
   "metadata": {},
   "outputs": [
    {
     "name": "stderr",
     "output_type": "stream",
     "text": [
      "2023-11-08 03:27:52 PM - [collection.py:162] - fiona._env - ERROR - C:\\python\\ra2ce\\examples\\data\\equity_analysis\\output\\multi_link_origin_closest_destination\\multilink_origin_closest_dest_origins.gpkg: No such file or directory\n"
     ]
    },
    {
     "ename": "DriverError",
     "evalue": "C:\\python\\ra2ce\\examples\\data\\equity_analysis\\output\\multi_link_origin_closest_destination\\multilink_origin_closest_dest_origins.gpkg: No such file or directory",
     "output_type": "error",
     "traceback": [
      "\u001b[1;31m---------------------------------------------------------------------------\u001b[0m",
      "\u001b[1;31mCPLE_OpenFailedError\u001b[0m                      Traceback (most recent call last)",
      "File \u001b[1;32mfiona\\_shim.pyx:83\u001b[0m, in \u001b[0;36mfiona._shim.gdal_open_vector\u001b[1;34m()\u001b[0m\n",
      "File \u001b[1;32mfiona\\_err.pyx:291\u001b[0m, in \u001b[0;36mfiona._err.exc_wrap_pointer\u001b[1;34m()\u001b[0m\n",
      "\u001b[1;31mCPLE_OpenFailedError\u001b[0m: C:\\python\\ra2ce\\examples\\data\\equity_analysis\\output\\multi_link_origin_closest_destination\\multilink_origin_closest_dest_origins.gpkg: No such file or directory",
      "\nDuring handling of the above exception, another exception occurred:\n",
      "\u001b[1;31mDriverError\u001b[0m                               Traceback (most recent call last)",
      "\u001b[1;32mc:\\python\\ra2ce\\examples\\example_equity_analysis.ipynb Cell 9\u001b[0m line \u001b[0;36m2\n\u001b[0;32m      <a href='vscode-notebook-cell:/c%3A/python/ra2ce/examples/example_equity_analysis.ipynb#X55sZmlsZQ%3D%3D?line=0'>1</a>\u001b[0m analysis_output_path \u001b[39m=\u001b[39m root_dir \u001b[39m/\u001b[39m \u001b[39m\"\u001b[39m\u001b[39moutput\u001b[39m\u001b[39m\"\u001b[39m \u001b[39m/\u001b[39m \u001b[39m\"\u001b[39m\u001b[39mmulti_link_origin_closest_destination\u001b[39m\u001b[39m\"\u001b[39m\n\u001b[1;32m----> <a href='vscode-notebook-cell:/c%3A/python/ra2ce/examples/example_equity_analysis.ipynb#X55sZmlsZQ%3D%3D?line=1'>2</a>\u001b[0m gdf \u001b[39m=\u001b[39m gpd\u001b[39m.\u001b[39;49mread_file(analysis_output_path \u001b[39m/\u001b[39;49m \u001b[39m'\u001b[39;49m\u001b[39mmultilink_origin_closest_dest_origins.gpkg\u001b[39;49m\u001b[39m'\u001b[39;49m)\n\u001b[0;32m      <a href='vscode-notebook-cell:/c%3A/python/ra2ce/examples/example_equity_analysis.ipynb#X55sZmlsZQ%3D%3D?line=2'>3</a>\u001b[0m gdf\u001b[39m.\u001b[39mhead() \u001b[39m#show the origins\u001b[39;00m\n",
      "File \u001b[1;32mc:\\Users\\meije_le\\Anaconda3\\envs\\ra2ce_env\\lib\\site-packages\\geopandas\\io\\file.py:297\u001b[0m, in \u001b[0;36m_read_file\u001b[1;34m(filename, bbox, mask, rows, engine, **kwargs)\u001b[0m\n\u001b[0;32m    294\u001b[0m     \u001b[39melse\u001b[39;00m:\n\u001b[0;32m    295\u001b[0m         path_or_bytes \u001b[39m=\u001b[39m filename\n\u001b[1;32m--> 297\u001b[0m     \u001b[39mreturn\u001b[39;00m _read_file_fiona(\n\u001b[0;32m    298\u001b[0m         path_or_bytes, from_bytes, bbox\u001b[39m=\u001b[39mbbox, mask\u001b[39m=\u001b[39mmask, rows\u001b[39m=\u001b[39mrows, \u001b[39m*\u001b[39m\u001b[39m*\u001b[39mkwargs\n\u001b[0;32m    299\u001b[0m     )\n\u001b[0;32m    301\u001b[0m \u001b[39melse\u001b[39;00m:\n\u001b[0;32m    302\u001b[0m     \u001b[39mraise\u001b[39;00m \u001b[39mValueError\u001b[39;00m(\u001b[39mf\u001b[39m\u001b[39m\"\u001b[39m\u001b[39munknown engine \u001b[39m\u001b[39m'\u001b[39m\u001b[39m{\u001b[39;00mengine\u001b[39m}\u001b[39;00m\u001b[39m'\u001b[39m\u001b[39m\"\u001b[39m)\n",
      "File \u001b[1;32mc:\\Users\\meije_le\\Anaconda3\\envs\\ra2ce_env\\lib\\site-packages\\geopandas\\io\\file.py:338\u001b[0m, in \u001b[0;36m_read_file_fiona\u001b[1;34m(path_or_bytes, from_bytes, bbox, mask, rows, where, **kwargs)\u001b[0m\n\u001b[0;32m    335\u001b[0m     reader \u001b[39m=\u001b[39m fiona\u001b[39m.\u001b[39mopen\n\u001b[0;32m    337\u001b[0m \u001b[39mwith\u001b[39;00m fiona_env():\n\u001b[1;32m--> 338\u001b[0m     \u001b[39mwith\u001b[39;00m reader(path_or_bytes, \u001b[39m*\u001b[39m\u001b[39m*\u001b[39mkwargs) \u001b[39mas\u001b[39;00m features:\n\u001b[0;32m    339\u001b[0m         crs \u001b[39m=\u001b[39m features\u001b[39m.\u001b[39mcrs_wkt\n\u001b[0;32m    340\u001b[0m         \u001b[39m# attempt to get EPSG code\u001b[39;00m\n",
      "File \u001b[1;32mc:\\Users\\meije_le\\Anaconda3\\envs\\ra2ce_env\\lib\\site-packages\\fiona\\env.py:408\u001b[0m, in \u001b[0;36mensure_env_with_credentials.<locals>.wrapper\u001b[1;34m(*args, **kwargs)\u001b[0m\n\u001b[0;32m    405\u001b[0m \u001b[39m@wraps\u001b[39m(f)\n\u001b[0;32m    406\u001b[0m \u001b[39mdef\u001b[39;00m \u001b[39mwrapper\u001b[39m(\u001b[39m*\u001b[39margs, \u001b[39m*\u001b[39m\u001b[39m*\u001b[39mkwargs):\n\u001b[0;32m    407\u001b[0m     \u001b[39mif\u001b[39;00m local\u001b[39m.\u001b[39m_env:\n\u001b[1;32m--> 408\u001b[0m         \u001b[39mreturn\u001b[39;00m f(\u001b[39m*\u001b[39margs, \u001b[39m*\u001b[39m\u001b[39m*\u001b[39mkwargs)\n\u001b[0;32m    409\u001b[0m     \u001b[39melse\u001b[39;00m:\n\u001b[0;32m    410\u001b[0m         \u001b[39mif\u001b[39;00m \u001b[39misinstance\u001b[39m(args[\u001b[39m0\u001b[39m], \u001b[39mstr\u001b[39m):\n",
      "File \u001b[1;32mc:\\Users\\meije_le\\Anaconda3\\envs\\ra2ce_env\\lib\\site-packages\\fiona\\__init__.py:278\u001b[0m, in \u001b[0;36mopen\u001b[1;34m(fp, mode, driver, schema, crs, encoding, layer, vfs, enabled_drivers, crs_wkt, **kwargs)\u001b[0m\n\u001b[0;32m    275\u001b[0m     path \u001b[39m=\u001b[39m parse_path(fp)\n\u001b[0;32m    277\u001b[0m \u001b[39mif\u001b[39;00m mode \u001b[39min\u001b[39;00m (\u001b[39m'\u001b[39m\u001b[39ma\u001b[39m\u001b[39m'\u001b[39m, \u001b[39m'\u001b[39m\u001b[39mr\u001b[39m\u001b[39m'\u001b[39m):\n\u001b[1;32m--> 278\u001b[0m     c \u001b[39m=\u001b[39m Collection(path, mode, driver\u001b[39m=\u001b[39mdriver, encoding\u001b[39m=\u001b[39mencoding,\n\u001b[0;32m    279\u001b[0m                    layer\u001b[39m=\u001b[39mlayer, enabled_drivers\u001b[39m=\u001b[39menabled_drivers, \u001b[39m*\u001b[39m\u001b[39m*\u001b[39mkwargs)\n\u001b[0;32m    280\u001b[0m \u001b[39melif\u001b[39;00m mode \u001b[39m==\u001b[39m \u001b[39m'\u001b[39m\u001b[39mw\u001b[39m\u001b[39m'\u001b[39m:\n\u001b[0;32m    281\u001b[0m     \u001b[39mif\u001b[39;00m schema:\n\u001b[0;32m    282\u001b[0m         \u001b[39m# Make an ordered dict of schema properties.\u001b[39;00m\n",
      "File \u001b[1;32mc:\\Users\\meije_le\\Anaconda3\\envs\\ra2ce_env\\lib\\site-packages\\fiona\\collection.py:162\u001b[0m, in \u001b[0;36mCollection.__init__\u001b[1;34m(self, path, mode, driver, schema, crs, encoding, layer, vsi, archive, enabled_drivers, crs_wkt, ignore_fields, ignore_geometry, **kwargs)\u001b[0m\n\u001b[0;32m    160\u001b[0m \u001b[39mif\u001b[39;00m \u001b[39mself\u001b[39m\u001b[39m.\u001b[39mmode \u001b[39m==\u001b[39m \u001b[39m'\u001b[39m\u001b[39mr\u001b[39m\u001b[39m'\u001b[39m:\n\u001b[0;32m    161\u001b[0m     \u001b[39mself\u001b[39m\u001b[39m.\u001b[39msession \u001b[39m=\u001b[39m Session()\n\u001b[1;32m--> 162\u001b[0m     \u001b[39mself\u001b[39m\u001b[39m.\u001b[39msession\u001b[39m.\u001b[39mstart(\u001b[39mself\u001b[39m, \u001b[39m*\u001b[39m\u001b[39m*\u001b[39mkwargs)\n\u001b[0;32m    163\u001b[0m \u001b[39melif\u001b[39;00m \u001b[39mself\u001b[39m\u001b[39m.\u001b[39mmode \u001b[39min\u001b[39;00m (\u001b[39m'\u001b[39m\u001b[39ma\u001b[39m\u001b[39m'\u001b[39m, \u001b[39m'\u001b[39m\u001b[39mw\u001b[39m\u001b[39m'\u001b[39m):\n\u001b[0;32m    164\u001b[0m     \u001b[39mself\u001b[39m\u001b[39m.\u001b[39msession \u001b[39m=\u001b[39m WritingSession()\n",
      "File \u001b[1;32mfiona\\ogrext.pyx:540\u001b[0m, in \u001b[0;36mfiona.ogrext.Session.start\u001b[1;34m()\u001b[0m\n",
      "File \u001b[1;32mfiona\\_shim.pyx:90\u001b[0m, in \u001b[0;36mfiona._shim.gdal_open_vector\u001b[1;34m()\u001b[0m\n",
      "\u001b[1;31mDriverError\u001b[0m: C:\\python\\ra2ce\\examples\\data\\equity_analysis\\output\\multi_link_origin_closest_destination\\multilink_origin_closest_dest_origins.gpkg: No such file or directory"
     ]
    }
   ],
   "source": [
    "analysis_output_path = root_dir / \"output\" / \"multi_link_origin_closest_destination\"\n",
    "gdf = gpd.read_file(analysis_output_path / 'multilink_origin_closest_dest_origins.gpkg')\n",
    "gdf.head() #show the origins"
   ]
  },
  {
   "attachments": {},
   "cell_type": "markdown",
   "id": "75d9cee7",
   "metadata": {},
   "source": [
    "Notice the different columns. Especially the columns 'EV1_ma_AD1' and 'EV1_ma_AD2' are of interest. They refer to 'EV1' (event 1), maximum water depth (ma) and Destination 1 (education) or 2 (hospital)."
   ]
  },
  {
   "attachments": {},
   "cell_type": "markdown",
   "id": "82c0c2e2",
   "metadata": {},
   "source": [
    "Below, we visualise which origins have access to their closest destination, given the disruption of the road network because of the flood. \n",
    "\n",
    "*Note: below we visualize the access to education (D1).*"
   ]
  },
  {
   "cell_type": "code",
   "execution_count": null,
   "id": "e3ac9a08",
   "metadata": {},
   "outputs": [],
   "source": [
    "gdf.explore(column='EV1_ma_AD1', cmap=['green', 'red'])"
   ]
  },
  {
   "attachments": {},
   "cell_type": "markdown",
   "id": "830bd48d",
   "metadata": {},
   "source": [
    "We can also check the access to the hospitals:"
   ]
  },
  {
   "cell_type": "code",
   "execution_count": null,
   "id": "6fb0b346",
   "metadata": {},
   "outputs": [],
   "source": [
    "gdf.explore(column='EV1_ma_AD2', cmap=['green', 'red'])"
   ]
  },
  {
   "attachments": {},
   "cell_type": "markdown",
   "id": "060dc7e8",
   "metadata": {},
   "source": [
    "What RA2CE also provides are optimal routes to a destination. In this case, since we use the origin **closest** destination analysis, the routes will be centered around the destination. For every origin that still has access, RA2CE computes the optimal route to that closest destination. \n",
    "\n",
    "If we want to visualize this in a way that shows the routes clearly, it requires some filtering. You for example need to filter the destination of interest. You can do this here or in a GIS software."
   ]
  },
  {
   "cell_type": "code",
   "execution_count": null,
   "id": "d5292506",
   "metadata": {},
   "outputs": [],
   "source": [
    "origin_gdf = gpd.read_file(analysis_output_path / 'multilink_origin_closest_dest_origins.gpkg') # read in the origins\n",
    "destinations_gdf = gpd.read_file(analysis_output_path / 'multilink_origin_closest_dest_destinations.gpkg') # read in the destination\n",
    "optimal_routes_gdf = gpd.read_file(analysis_output_path / 'multilink_origin_closest_dest_optimal_routes_with_hazard.gpkg') # read in the optimal routes given the hazard"
   ]
  },
  {
   "cell_type": "code",
   "execution_count": null,
   "id": "c618977e",
   "metadata": {},
   "outputs": [],
   "source": [
    "b_5_gdf = destinations_gdf[destinations_gdf['d_id']=='B_5'] # filter on destination B5\n",
    "optimal_routes_b_5_gdf = optimal_routes_gdf[optimal_routes_gdf['destination'] == 'B_5'] # filter on destination B5\n",
    "origins_with_optimal_route_b_5 = origin_gdf[origin_gdf['o_id'].isin(optimal_routes_b_5_gdf['origin'])] # both the origins and the destinations file hold destination information\n",
    "\n",
    "optimal_routes_b_5_map = optimal_routes_b_5_gdf.explore(color='black')\n",
    "b_5_map = b_5_gdf.explore(m=optimal_routes_b_5_map, color='blue', marker_kwds={'radius':10})\n",
    "origins_with_optimal_route_b_5.explore(m=b_5_map, color='green', marker_kwds={'radius':5})"
   ]
  },
  {
   "attachments": {},
   "cell_type": "markdown",
   "id": "b9ea6062",
   "metadata": {},
   "source": [
    "Notice how some origins have access but are not directly on a road. This is becasuse RA2CE makes an assumption where the origins will 'enter' the road, by projecting the origin on the nearest road vertice. "
   ]
  },
  {
   "attachments": {},
   "cell_type": "markdown",
   "id": "85820c4c",
   "metadata": {},
   "source": [
    "It is also interesting to see how many people are cut-off from their nearest education location or hospital. We first show the the number of people that does not have access to any education location."
   ]
  },
  {
   "cell_type": "code",
   "execution_count": null,
   "id": "029f2702",
   "metadata": {},
   "outputs": [],
   "source": [
    "origins_gdf = gpd.read_file(analysis_output_path / 'multilink_origin_closest_dest_origins.gpkg')\n",
    "no_access_gdf = origins_gdf[origins_gdf['EV1_ma_AD1']=='no access']\n",
    "\n",
    "no_access_gdf.explore(column='POPULATION', cmap='cool', marker_kwds={'radius':5}, tiles=\"CartoDB positron\")"
   ]
  },
  {
   "attachments": {},
   "cell_type": "markdown",
   "id": "ab1d478d",
   "metadata": {},
   "source": [
    "And now the same for the hospitals:"
   ]
  },
  {
   "cell_type": "code",
   "execution_count": null,
   "id": "031e0629",
   "metadata": {},
   "outputs": [],
   "source": [
    "origins_gdf = gpd.read_file(analysis_output_path / 'multilink_origin_closest_dest_origins.gpkg')\n",
    "no_access_gdf = origins_gdf[origins_gdf['EV1_ma_AD2']=='no access']\n",
    "\n",
    "no_access_gdf.explore(column='POPULATION', cmap='cool', marker_kwds={'radius':5}, tiles=\"CartoDB positron\")"
   ]
  },
  {
   "attachments": {},
   "cell_type": "markdown",
   "id": "4bc47b72",
   "metadata": {},
   "source": [
    "These two maps almost look the same, are they? Are there just as many people isolated from any education location as from any hospital location? Let's check it in the results."
   ]
  },
  {
   "cell_type": "code",
   "execution_count": null,
   "id": "4368f83b",
   "metadata": {},
   "outputs": [],
   "source": [
    "origins_gdf = gpd.read_file(analysis_output_path / 'multilink_origin_closest_dest_origins.gpkg')\n",
    "d1_access_d2_no_access = origins_gdf[(origins_gdf['EV1_ma_AD1']=='access') & (origins_gdf['EV1_ma_AD2']=='no access')]\n",
    "d1_no_access_d2_access = origins_gdf[(origins_gdf['EV1_ma_AD1']=='no access') & (origins_gdf['EV1_ma_AD2']=='access')]\n",
    "\n",
    "print(f\"How many population points have access to any education location and no access to any hospital? {d1_access_d2_no_access.shape[0]}\")\n",
    "print(f\"How many population points have no access to any education location and no access to any hospital? {d1_no_access_d2_access.shape[0]}\")"
   ]
  },
  {
   "attachments": {},
   "cell_type": "markdown",
   "id": "8c149685",
   "metadata": {},
   "source": [
    "Indeed, as we already saw in the maps all locations have either access to an education location ánd to a hospital or no access to either."
   ]
  }
 ],
 "metadata": {
  "kernelspec": {
   "display_name": "Python 3 (ipykernel)",
   "language": "python",
   "name": "python3"
  },
  "language_info": {
   "codemirror_mode": {
    "name": "ipython",
    "version": 3
   },
   "file_extension": ".py",
   "mimetype": "text/x-python",
   "name": "python",
   "nbconvert_exporter": "python",
   "pygments_lexer": "ipython3",
   "version": "3.10.13"
  }
 },
 "nbformat": 4,
 "nbformat_minor": 5
}
